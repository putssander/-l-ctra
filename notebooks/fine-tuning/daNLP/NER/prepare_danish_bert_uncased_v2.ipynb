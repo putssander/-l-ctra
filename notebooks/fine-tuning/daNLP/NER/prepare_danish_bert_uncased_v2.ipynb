{
 "cells": [
  {
   "cell_type": "markdown",
   "id": "ce55b750-a2a8-4a4b-9517-a0676781429a",
   "metadata": {},
   "source": [
    "# Prepare Danish BERT"
   ]
  },
  {
   "cell_type": "markdown",
   "id": "7b9f7db7-dbdc-4f83-a233-c5b131591eed",
   "metadata": {},
   "source": [
    "from\n",
    "https://github.com/danielvarab/convert_da_bert"
   ]
  },
  {
   "cell_type": "code",
   "execution_count": null,
   "id": "4e6cdb32-3f4f-4376-b292-01f36b46b765",
   "metadata": {},
   "outputs": [],
   "source": [
    "import os\n",
    "os.chdir(\"./../../../../data\")\n",
    "os.getcwd()"
   ]
  },
  {
   "cell_type": "code",
   "execution_count": null,
   "id": "a8e966c1-d12c-4774-ae62-6684e0d1e50a",
   "metadata": {},
   "outputs": [],
   "source": [
    "!wget https://www.dropbox.com/s/19cjaoqvv2jicq9/danish_bert_uncased_v2.zip\n",
    "# download botxo's danish model (v2).\n",
    "# this was the dropbox link as of 11/6/2020"
   ]
  },
  {
   "cell_type": "code",
   "execution_count": null,
   "id": "2f722518-dd72-41ad-a3ec-28903f41b7e5",
   "metadata": {},
   "outputs": [],
   "source": [
    "# unzip model. The zip includes a folder called 'danish_bert_uncased_v2'\n",
    "!unzip danish_bert_uncased_v2.zip"
   ]
  },
  {
   "cell_type": "code",
   "execution_count": null,
   "id": "32593ede-4277-4e68-a639-f323f76b43c3",
   "metadata": {},
   "outputs": [],
   "source": [
    "# Note that there are multiple bert_model.ckpt files (don't mistakenly include the suffixes.)\n",
    "!transformers-cli convert \\\n",
    "    --model_type bert \\\n",
    "    --tf_checkpoint danish_bert_uncased_v2/bert_model.ckpt \\\n",
    "    --config danish_bert_uncased_v2/bert_config.json \\\n",
    "    --pytorch_dump_output bert-base-danish-uncased-v2/pytorch_model.bin"
   ]
  }
 ],
 "metadata": {
  "kernelspec": {
   "display_name": "Python 3 (ipykernel)",
   "language": "python",
   "name": "python3"
  },
  "language_info": {
   "codemirror_mode": {
    "name": "ipython",
    "version": 3
   },
   "file_extension": ".py",
   "mimetype": "text/x-python",
   "name": "python",
   "nbconvert_exporter": "python",
   "pygments_lexer": "ipython3",
   "version": "3.9.7"
  }
 },
 "nbformat": 4,
 "nbformat_minor": 5
}
