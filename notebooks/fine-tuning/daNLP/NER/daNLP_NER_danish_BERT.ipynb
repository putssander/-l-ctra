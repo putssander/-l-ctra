{
 "cells": [
  {
   "cell_type": "markdown",
   "metadata": {},
   "source": [
    "# This is a notebook implementing Danish BERT for NER classification on the DaNE dataset"
   ]
  },
  {
   "cell_type": "code",
   "execution_count": 1,
   "metadata": {},
   "outputs": [
    {
     "name": "stdout",
     "output_type": "stream",
     "text": [
      "Requirement already satisfied: danlp in /opt/conda/lib/python3.9/site-packages (0.1.2)\n",
      "Requirement already satisfied: conllu in /opt/conda/lib/python3.9/site-packages (from danlp) (4.5.2)\n",
      "Requirement already satisfied: tqdm in /opt/conda/lib/python3.9/site-packages (from danlp) (4.62.3)\n",
      "Requirement already satisfied: pandas in /opt/conda/lib/python3.9/site-packages (from danlp) (1.4.3)\n",
      "Requirement already satisfied: pyconll in /opt/conda/lib/python3.9/site-packages (from danlp) (3.1.0)\n",
      "Requirement already satisfied: progressbar in /opt/conda/lib/python3.9/site-packages (from danlp) (2.5)\n",
      "Requirement already satisfied: tweepy in /opt/conda/lib/python3.9/site-packages (from danlp) (4.10.1)\n",
      "Requirement already satisfied: numpy>=1.18.5 in /opt/conda/lib/python3.9/site-packages (from pandas->danlp) (1.19.5)\n",
      "Requirement already satisfied: python-dateutil>=2.8.1 in /opt/conda/lib/python3.9/site-packages (from pandas->danlp) (2.8.2)\n",
      "Requirement already satisfied: pytz>=2020.1 in /opt/conda/lib/python3.9/site-packages (from pandas->danlp) (2021.3)\n",
      "Requirement already satisfied: requests-oauthlib<2,>=1.2.0 in /opt/conda/lib/python3.9/site-packages (from tweepy->danlp) (1.3.1)\n",
      "Requirement already satisfied: oauthlib<4,>=3.2.0 in /opt/conda/lib/python3.9/site-packages (from tweepy->danlp) (3.2.0)\n",
      "Requirement already satisfied: requests<3,>=2.27.0 in /opt/conda/lib/python3.9/site-packages (from tweepy->danlp) (2.27.1)\n",
      "Requirement already satisfied: six>=1.5 in /opt/conda/lib/python3.9/site-packages (from python-dateutil>=2.8.1->pandas->danlp) (1.15.0)\n",
      "Requirement already satisfied: charset-normalizer~=2.0.0 in /opt/conda/lib/python3.9/site-packages (from requests<3,>=2.27.0->tweepy->danlp) (2.0.10)\n",
      "Requirement already satisfied: certifi>=2017.4.17 in /opt/conda/lib/python3.9/site-packages (from requests<3,>=2.27.0->tweepy->danlp) (2021.10.8)\n",
      "Requirement already satisfied: urllib3<1.27,>=1.21.1 in /opt/conda/lib/python3.9/site-packages (from requests<3,>=2.27.0->tweepy->danlp) (1.26.8)\n",
      "Requirement already satisfied: idna<4,>=2.5 in /opt/conda/lib/python3.9/site-packages (from requests<3,>=2.27.0->tweepy->danlp) (3.3)\n",
      "\n",
      "\u001b[1m[\u001b[0m\u001b[34;49mnotice\u001b[0m\u001b[1;39;49m]\u001b[0m\u001b[39;49m A new release of pip available: \u001b[0m\u001b[31;49m22.2\u001b[0m\u001b[39;49m -> \u001b[0m\u001b[32;49m22.3\u001b[0m\n",
      "\u001b[1m[\u001b[0m\u001b[34;49mnotice\u001b[0m\u001b[1;39;49m]\u001b[0m\u001b[39;49m To update, run: \u001b[0m\u001b[32;49mpip install --upgrade pip\u001b[0m\n"
     ]
    }
   ],
   "source": [
    "!pip install danlp"
   ]
  },
  {
   "cell_type": "code",
   "execution_count": 2,
   "metadata": {
    "tags": []
   },
   "outputs": [],
   "source": [
    "# Loading packages\n",
    "## Standard packages\n",
    "import os\n",
    "\n",
    "import math\n",
    "\n",
    "import pandas as pd\n",
    "\n",
    "import numpy as np\n",
    "\n",
    "## pyTorch\n",
    "import torch\n",
    "import torch.nn.functional as F\n",
    "from torch import nn\n",
    "from torch.optim import Adam\n",
    "from torch.utils.data import TensorDataset, DataLoader, RandomSampler, SequentialSampler\n",
    "\n",
    "## Transformers\n",
    "from transformers import BertTokenizer, AutoTokenizer\n",
    "from transformers import BertForTokenClassification, AutoModelForTokenClassification, AdamW\n",
    "from transformers import get_linear_schedule_with_warmup\n",
    "\n",
    "## Other ML utils\n",
    "from sklearn.metrics import confusion_matrix, f1_score, classification_report, accuracy_score\n",
    "from sklearn.model_selection import train_test_split\n",
    "\n",
    "from keras.preprocessing.sequence import pad_sequences\n",
    "\n",
    "\n",
    "from tqdm import tqdm,trange\n",
    "\n",
    "from danlp.datasets import DDT\n"
   ]
  },
  {
   "cell_type": "code",
   "execution_count": 3,
   "metadata": {},
   "outputs": [
    {
     "data": {
      "text/plain": [
       "'/home/jovyan/work/danish/-l-ctra/data'"
      ]
     },
     "execution_count": 3,
     "metadata": {},
     "output_type": "execute_result"
    }
   ],
   "source": [
    "os.chdir(\"./../../../../data\")\n",
    "os.getcwd()"
   ]
  },
  {
   "cell_type": "markdown",
   "metadata": {},
   "source": [
    "## Loading and inspecting data"
   ]
  },
  {
   "cell_type": "code",
   "execution_count": 4,
   "metadata": {},
   "outputs": [],
   "source": [
    "# Load the DaNE data\n",
    "train, val, test = DDT().load_as_simple_ner(predefined_splits=True)\n",
    "\n",
    "# Split sentences and labels\n",
    "tr_sentences, tr_labels = train\n",
    "val_sentences, val_labels = val\n",
    "test_sentences, test_labels = test"
   ]
  },
  {
   "cell_type": "code",
   "execution_count": 5,
   "metadata": {},
   "outputs": [],
   "source": [
    "def is_misc(ent: str):\n",
    "    if len(ent) < 4:\n",
    "        return False\n",
    "    return ent[-4:] == 'MISC'\n",
    "\n",
    "\n",
    "def remove_miscs(se: list):\n",
    "    return [\n",
    "        [entity if not is_misc(entity) else 'O' for entity in entities]\n",
    "        for entities in se\n",
    "    ]"
   ]
  },
  {
   "cell_type": "code",
   "execution_count": 6,
   "metadata": {},
   "outputs": [],
   "source": [
    "# Replace MISC with O for fair comparisons\n",
    "tr_labels = remove_miscs(tr_labels)\n",
    "val_labels = remove_miscs(val_labels)\n",
    "test_labels = remove_miscs(test_labels)"
   ]
  },
  {
   "cell_type": "code",
   "execution_count": 7,
   "metadata": {},
   "outputs": [
    {
     "name": "stdout",
     "output_type": "stream",
     "text": [
      "4383\n",
      "564\n",
      "565\n"
     ]
    }
   ],
   "source": [
    "#Sanity checking number of words\n",
    "print(len(tr_labels))\n",
    "print(len(val_labels))\n",
    "print(len(test_labels))"
   ]
  },
  {
   "cell_type": "markdown",
   "metadata": {},
   "source": [
    "The ELECTRA model requires input data to be in a specific format. One requirement is to have special tokens that marks the beginning ([CLS]) and the separation/end of sentences ([SEP]). These tokens are added to the list of label values below. Furthermore, the label [PAD] is added to indicate padded tokens after padding the sentences later in the process."
   ]
  },
  {
   "cell_type": "code",
   "execution_count": 8,
   "metadata": {
    "tags": []
   },
   "outputs": [
    {
     "name": "stdout",
     "output_type": "stream",
     "text": [
      "['O', 'B-PER', 'I-PER', 'B-LOC', 'I-LOC', 'B-ORG', 'I-ORG', '[PAD]', '[CLS]', '[SEP]']\n",
      "{'O': 0, 'B-PER': 1, 'I-PER': 2, 'B-LOC': 3, 'I-LOC': 4, 'B-ORG': 5, 'I-ORG': 6, '[PAD]': 7, '[CLS]': 8, '[SEP]': 9}\n",
      "{0: 'O', 1: 'B-PER', 2: 'I-PER', 3: 'B-LOC', 4: 'I-LOC', 5: 'B-ORG', 6: 'I-ORG', 7: '[PAD]', 8: '[CLS]', 9: '[SEP]'}\n"
     ]
    }
   ],
   "source": [
    "# Adding labels to fine-tune the BERT\n",
    "tag_values = ['O', 'B-PER', 'I-PER', 'B-LOC', 'I-LOC', 'B-ORG', 'I-ORG']  #list(set(labels for list in tr_labels for labels in list))\n",
    "tag_values.append(\"[PAD]\")\n",
    "tag_values.append(\"[CLS]\")\n",
    "tag_values.append(\"[SEP]\")\n",
    "print(tag_values)\n",
    "\n",
    "#Creating tag to index and index to tags variables\n",
    "tag2idx = {t: i for i, t in enumerate(tag_values)}\n",
    "idx2tag = {i: t for t, i in tag2idx.items()}\n",
    "print(tag2idx)\n",
    "print(idx2tag)"
   ]
  },
  {
   "cell_type": "markdown",
   "metadata": {},
   "source": [
    "## Making the training data using the vocabulary from multilingual BERT"
   ]
  },
  {
   "cell_type": "code",
   "execution_count": 9,
   "metadata": {},
   "outputs": [
    {
     "data": {
      "text/plain": [
       "'NVIDIA RTX A4000'"
      ]
     },
     "execution_count": 9,
     "metadata": {},
     "output_type": "execute_result"
    }
   ],
   "source": [
    "# Checking whether GPU is available\n",
    "device = torch.device(\"cuda\" if torch.cuda.is_available() else \"cpu\")\n",
    "n_gpu = torch.cuda.device_count()\n",
    "torch.cuda.get_device_name(0) \n"
   ]
  },
  {
   "cell_type": "markdown",
   "metadata": {},
   "source": [
    "BERT provides its own tokenizer which is imported below. The tokenizer is created with a Wordpiece model and it creates a vocabulary of whole words, subwords and individual characters."
   ]
  },
  {
   "cell_type": "code",
   "execution_count": 10,
   "metadata": {
    "tags": []
   },
   "outputs": [
    {
     "name": "stderr",
     "output_type": "stream",
     "text": [
      "/opt/conda/lib/python3.9/site-packages/transformers/tokenization_utils_base.py:1656: FutureWarning: Calling BertTokenizer.from_pretrained() with the path to a single file or url is deprecated and won't be possible anymore in v5. Use a model identifier or the path to a directory instead.\n",
      "  warnings.warn(\n"
     ]
    }
   ],
   "source": [
    "# load tokenizer, with manual file address or pretrained address from the Transformers library\n",
    "# where is this file?\n",
    "# https://www.dropbox.com/s/19cjaoqvv2jicq9/danish_bert_uncased_v2.zip?dl=1\n",
    "tokenizer = BertTokenizer.from_pretrained(\"danish_bert_uncased_v2/vocab.txt\", do_lower_case = True, strip_accents = False)"
   ]
  },
  {
   "cell_type": "code",
   "execution_count": 11,
   "metadata": {},
   "outputs": [],
   "source": [
    "def tokenize_and_preserve_labels(sentence, text_labels):\n",
    "    tokenized_sentence = []\n",
    "    labels = []\n",
    "\n",
    "    for word, label in zip(sentence, text_labels):\n",
    "\n",
    "        # Tokenize the word and count # of subwords the word is broken into\n",
    "        tokenized_word = tokenizer.tokenize(word)\n",
    "        n_subwords = len(tokenized_word)\n",
    "\n",
    "        # Add the tokenized word to the final tokenized word list\n",
    "        tokenized_sentence.extend(tokenized_word)\n",
    "\n",
    "        # Add the same label to the new list of labels `n_subwords` times\n",
    "        labels.extend([label] * n_subwords)\n",
    "\n",
    "    return tokenized_sentence, labels"
   ]
  },
  {
   "cell_type": "code",
   "execution_count": 12,
   "metadata": {},
   "outputs": [],
   "source": [
    "tr_tokenized_texts_and_labels = [\n",
    "    tokenize_and_preserve_labels(s, l)\n",
    "    for s, l in zip(tr_sentences, tr_labels)\n",
    "]\n",
    "\n",
    "val_tokenized_texts_and_labels = [\n",
    "    tokenize_and_preserve_labels(s, l)\n",
    "    for s, l in zip(val_sentences, val_labels)\n",
    "]\n",
    "\n",
    "test_tokenized_texts_and_labels = [\n",
    "    tokenize_and_preserve_labels(s, l)\n",
    "    for s, l in zip(test_sentences, test_labels)\n",
    "]\n",
    "\n"
   ]
  },
  {
   "cell_type": "code",
   "execution_count": 13,
   "metadata": {},
   "outputs": [
    {
     "data": {
      "text/plain": [
       "(['på',\n",
       "  'fredag',\n",
       "  'har',\n",
       "  'sid',\n",
       "  'inviteret',\n",
       "  'til',\n",
       "  'reception',\n",
       "  'i',\n",
       "  'sid',\n",
       "  '-',\n",
       "  'huset',\n",
       "  'i',\n",
       "  'anledning',\n",
       "  'af',\n",
       "  'at',\n",
       "  'formanden',\n",
       "  'kjeld',\n",
       "  'christensen',\n",
       "  'går',\n",
       "  'ind',\n",
       "  'i',\n",
       "  'de',\n",
       "  'glade',\n",
       "  'tre',\n",
       "  '##sser',\n",
       "  '##e',\n",
       "  '.'],\n",
       " ['O',\n",
       "  'O',\n",
       "  'O',\n",
       "  'B-ORG',\n",
       "  'O',\n",
       "  'O',\n",
       "  'O',\n",
       "  'O',\n",
       "  'B-LOC',\n",
       "  'B-LOC',\n",
       "  'B-LOC',\n",
       "  'O',\n",
       "  'O',\n",
       "  'O',\n",
       "  'O',\n",
       "  'O',\n",
       "  'B-PER',\n",
       "  'I-PER',\n",
       "  'O',\n",
       "  'O',\n",
       "  'O',\n",
       "  'O',\n",
       "  'O',\n",
       "  'O',\n",
       "  'O',\n",
       "  'O',\n",
       "  'O'])"
      ]
     },
     "execution_count": 13,
     "metadata": {},
     "output_type": "execute_result"
    }
   ],
   "source": [
    "tr_tokenized_texts_and_labels[0]"
   ]
  },
  {
   "cell_type": "code",
   "execution_count": 14,
   "metadata": {
    "tags": []
   },
   "outputs": [
    {
     "name": "stdout",
     "output_type": "stream",
     "text": [
      "['[CLS]', 'på', 'fredag', 'har', 'sid', 'inviteret', 'til', 'reception', 'i', 'sid', '-', 'huset', 'i', 'anledning', 'af', 'at', 'formanden', 'kjeld', 'christensen', 'går', 'ind', 'i', 'de', 'glade', 'tre', '##sser', '##e', '.', '[SEP]']\n",
      "['[CLS]', 'O', 'O', 'O', 'B-ORG', 'O', 'O', 'O', 'O', 'B-LOC', 'B-LOC', 'B-LOC', 'O', 'O', 'O', 'O', 'O', 'B-PER', 'I-PER', 'O', 'O', 'O', 'O', 'O', 'O', 'O', 'O', 'O', '[SEP]']\n"
     ]
    }
   ],
   "source": [
    "tr_tokenized_texts = [[\"[CLS]\"] + tr_token_label_pair[0] + [\"[SEP]\"] for tr_token_label_pair in tr_tokenized_texts_and_labels]\n",
    "tr_labels = [[\"[CLS]\"] + tr_token_label_pair[1] + [\"[SEP]\"] for tr_token_label_pair in tr_tokenized_texts_and_labels]\n",
    "\n",
    "\n",
    "val_tokenized_texts = [[\"[CLS]\"] + val_token_label_pair[0] + [\"[SEP]\"] for val_token_label_pair in val_tokenized_texts_and_labels]\n",
    "val_labels = [[\"[CLS]\"] + val_token_label_pair[1] + [\"[SEP]\"] for val_token_label_pair in val_tokenized_texts_and_labels]\n",
    " \n",
    "\n",
    "test_tokenized_texts = [[\"[CLS]\"] + test_token_label_pair[0] + [\"[SEP]\"] for test_token_label_pair in test_tokenized_texts_and_labels]\n",
    "test_labels = [[\"[CLS]\"] + test_token_label_pair[1] + [\"[SEP]\"] for test_token_label_pair in test_tokenized_texts_and_labels]\n",
    "\n",
    "#Example of word-piece tokenizations:\n",
    "print(tr_tokenized_texts[0])\n",
    "print(tr_labels[0])"
   ]
  },
  {
   "cell_type": "markdown",
   "metadata": {},
   "source": [
    "Note that number of words in all datasets are increased due to the word-piece tokenization. For the test dataset this means that it will have a higher number of words i.e. labels also during evaluation and comparison to the rule-based classification"
   ]
  },
  {
   "cell_type": "code",
   "execution_count": 15,
   "metadata": {},
   "outputs": [
    {
     "data": {
      "text/plain": [
       "13017"
      ]
     },
     "execution_count": 15,
     "metadata": {},
     "output_type": "execute_result"
    }
   ],
   "source": [
    "#number of words increased from 7,416 to 22,424\n",
    "tmp=0\n",
    "for labels in test_labels:\n",
    "    tmp=tmp+len(labels)\n",
    "tmp"
   ]
  },
  {
   "cell_type": "code",
   "execution_count": 16,
   "metadata": {
    "tags": []
   },
   "outputs": [
    {
     "name": "stdout",
     "output_type": "stream",
     "text": [
      "128\n"
     ]
    }
   ],
   "source": [
    "# Len of the sentence must be not bigger than the training model\n",
    "# See model's 'max_position_embeddings' = 512\n",
    "\n",
    "MAX_LEN = 128# len(max(tr_tokenized_texts, key = len))\n",
    "print(MAX_LEN)\n",
    "bs = 32"
   ]
  },
  {
   "cell_type": "markdown",
   "metadata": {},
   "source": [
    "Indexing tokens in sentences"
   ]
  },
  {
   "cell_type": "code",
   "execution_count": 17,
   "metadata": {
    "tags": []
   },
   "outputs": [
    {
     "name": "stdout",
     "output_type": "stream",
     "text": [
      "[    2    58  3314    87   456  7898    45 13801    23   456   105  2486\n",
      "    23  4872    47    39  6123 17059  6244   564   164    23    69  3806\n",
      "   862  7113 31694   771     3     0     0     0     0     0     0     0\n",
      "     0     0     0     0     0     0     0     0     0     0     0     0\n",
      "     0     0     0     0     0     0     0     0     0     0     0     0\n",
      "     0     0     0     0     0     0     0     0     0     0     0     0\n",
      "     0     0     0     0     0     0     0     0     0     0     0     0\n",
      "     0     0     0     0     0     0     0     0     0     0     0     0\n",
      "     0     0     0     0     0     0     0     0     0     0     0     0\n",
      "     0     0     0     0     0     0     0     0     0     0     0     0\n",
      "     0     0     0     0     0     0     0     0]\n"
     ]
    }
   ],
   "source": [
    "tr_input_ids = pad_sequences([tokenizer.convert_tokens_to_ids(txt) for txt in tr_tokenized_texts],\n",
    "                          maxlen=MAX_LEN, dtype=\"long\", truncating=\"post\", padding=\"post\")\n",
    "\n",
    "\n",
    "val_input_ids = pad_sequences([tokenizer.convert_tokens_to_ids(txt) for txt in val_tokenized_texts],\n",
    "                          maxlen=MAX_LEN, dtype=\"long\", truncating=\"post\", padding=\"post\")\n",
    "\n",
    "test_input_ids = pad_sequences([tokenizer.convert_tokens_to_ids(txt) for txt in test_tokenized_texts],\n",
    "                          maxlen=MAX_LEN, dtype=\"long\", truncating=\"post\", padding=\"post\")\n",
    "\n",
    "#Example of indexing\n",
    "print(tr_input_ids[0])"
   ]
  },
  {
   "cell_type": "markdown",
   "metadata": {},
   "source": [
    "Indexing labels"
   ]
  },
  {
   "cell_type": "code",
   "execution_count": 18,
   "metadata": {
    "tags": []
   },
   "outputs": [
    {
     "name": "stdout",
     "output_type": "stream",
     "text": [
      "[8 1 2 0 0 0 5 0 0 0 0 0 0 0 0 0 0 0 0 0 0 0 0 0 0 0 0 0 0 0 0 0 0 0 9 7 7\n",
      " 7 7 7 7 7 7 7 7 7 7 7 7 7 7 7 7 7 7 7 7 7 7 7 7 7 7 7 7 7 7 7 7 7 7 7 7 7\n",
      " 7 7 7 7 7 7 7 7 7 7 7 7 7 7 7 7 7 7 7 7 7 7 7 7 7 7 7 7 7 7 7 7 7 7 7 7 7\n",
      " 7 7 7 7 7 7 7 7 7 7 7 7 7 7 7 7 7]\n"
     ]
    }
   ],
   "source": [
    "tr_tags = pad_sequences([[tag2idx.get(l) for l in lab] for lab in tr_labels],\n",
    "                     maxlen=MAX_LEN, value=tag2idx[\"[PAD]\"], padding=\"post\",\n",
    "                     dtype=\"long\", truncating=\"post\")\n",
    "\n",
    "\n",
    "val_tags = pad_sequences([[tag2idx.get(l) for l in lab] for lab in val_labels],\n",
    "                     maxlen=MAX_LEN, value=tag2idx[\"[PAD]\"], padding=\"post\",\n",
    "                     dtype=\"long\", truncating=\"post\")\n",
    "\n",
    "\n",
    "test_tags = pad_sequences([[tag2idx.get(l) for l in lab] for lab in test_labels],\n",
    "                     maxlen=MAX_LEN, value=tag2idx[\"[PAD]\"], padding=\"post\",\n",
    "                     dtype=\"long\", truncating=\"post\")\n",
    "\n",
    "#Example of indexing\n",
    "print(tr_tags[10])\n"
   ]
  },
  {
   "cell_type": "markdown",
   "metadata": {},
   "source": [
    "Creating attention masks that indicates which elements in the sentence are tokens and which are padding elements. So here we create the mask to ignore the padded elements in the sequences."
   ]
  },
  {
   "cell_type": "code",
   "execution_count": 19,
   "metadata": {
    "tags": []
   },
   "outputs": [
    {
     "name": "stdout",
     "output_type": "stream",
     "text": [
      "[1.0, 1.0, 1.0, 1.0, 1.0, 1.0, 1.0, 1.0, 1.0, 1.0, 1.0, 1.0, 1.0, 1.0, 1.0, 1.0, 1.0, 1.0, 1.0, 1.0, 1.0, 1.0, 1.0, 1.0, 1.0, 1.0, 1.0, 1.0, 1.0, 1.0, 1.0, 1.0, 1.0, 1.0, 1.0, 0.0, 0.0, 0.0, 0.0, 0.0, 0.0, 0.0, 0.0, 0.0, 0.0, 0.0, 0.0, 0.0, 0.0, 0.0, 0.0, 0.0, 0.0, 0.0, 0.0, 0.0, 0.0, 0.0, 0.0, 0.0, 0.0, 0.0, 0.0, 0.0, 0.0, 0.0, 0.0, 0.0, 0.0, 0.0, 0.0, 0.0, 0.0, 0.0, 0.0, 0.0, 0.0, 0.0, 0.0, 0.0, 0.0, 0.0, 0.0, 0.0, 0.0, 0.0, 0.0, 0.0, 0.0, 0.0, 0.0, 0.0, 0.0, 0.0, 0.0, 0.0, 0.0, 0.0, 0.0, 0.0, 0.0, 0.0, 0.0, 0.0, 0.0, 0.0, 0.0, 0.0, 0.0, 0.0, 0.0, 0.0, 0.0, 0.0, 0.0, 0.0, 0.0, 0.0, 0.0, 0.0, 0.0, 0.0, 0.0, 0.0, 0.0, 0.0, 0.0, 0.0]\n"
     ]
    }
   ],
   "source": [
    "tr_attention_masks = [[float(i != 0) for i in ii] for ii in tr_input_ids]\n",
    "\n",
    "\n",
    "val_attention_masks = [[float(i != 0) for i in ii] for ii in val_input_ids]\n",
    "\n",
    "test_attention_masks = [[float(i != 0) for i in ii] for ii in test_input_ids]\n",
    "\n",
    "#Example of attention masks\n",
    "print(tr_attention_masks[10])\n"
   ]
  },
  {
   "cell_type": "markdown",
   "metadata": {},
   "source": [
    "Pytorch requires converting datasets into torch tensors (multidimensional matrices). Inputs, tags and mask ID's for training and test data are converted to tensors and moved to the GPU by applying .to(device)"
   ]
  },
  {
   "cell_type": "code",
   "execution_count": 20,
   "metadata": {},
   "outputs": [],
   "source": [
    "tr_inputs = torch.tensor(tr_input_ids)\n",
    "val_inputs = torch.tensor(val_input_ids)\n",
    "test_inputs = torch.tensor(test_input_ids)\n",
    "\n",
    "tr_tags = torch.tensor(tr_tags)\n",
    "val_tags = torch.tensor(val_tags)\n",
    "test_tags = torch.tensor(test_tags)\n",
    "\n",
    "tr_masks = torch.tensor(tr_attention_masks)\n",
    "val_masks = torch.tensor(val_attention_masks)\n",
    "test_masks = torch.tensor(test_attention_masks)\n"
   ]
  },
  {
   "cell_type": "markdown",
   "metadata": {},
   "source": [
    "Creating training and test tensor datasets and defining data loaders. Shuffling the training data with RandomSampler and at test time we just pass them sequentially with the SequentialSampler."
   ]
  },
  {
   "cell_type": "code",
   "execution_count": 21,
   "metadata": {},
   "outputs": [],
   "source": [
    "train_data = TensorDataset(tr_inputs, tr_masks, tr_tags)\n",
    "train_sampler = RandomSampler(train_data)\n",
    "train_dataloader = DataLoader(train_data, sampler=train_sampler, batch_size=bs)\n",
    "\n",
    "valid_data = TensorDataset(val_inputs, val_masks, val_tags)\n",
    "valid_sampler = SequentialSampler(valid_data)\n",
    "valid_dataloader = DataLoader(valid_data, sampler=valid_sampler, batch_size=bs)\n",
    "\n",
    "test_data = TensorDataset(test_inputs, test_masks, test_tags)\n",
    "test_sampler = SequentialSampler(test_data)\n",
    "test_dataloader = DataLoader(test_data, sampler=test_sampler, batch_size=bs)"
   ]
  },
  {
   "cell_type": "markdown",
   "metadata": {},
   "source": [
    "## Train model"
   ]
  },
  {
   "cell_type": "markdown",
   "metadata": {},
   "source": [
    "We load the pre-trained bert-base-cased model and provide the number of possible labels."
   ]
  },
  {
   "cell_type": "code",
   "execution_count": 23,
   "metadata": {
    "tags": []
   },
   "outputs": [
    {
     "name": "stderr",
     "output_type": "stream",
     "text": [
      "Some weights of the model checkpoint at danish_bert_uncased_v2 were not used when initializing BertForTokenClassification: ['cls.predictions.decoder.bias', 'cls.seq_relationship.weight', 'cls.predictions.transform.LayerNorm.weight', 'cls.predictions.decoder.weight', 'cls.predictions.transform.dense.weight', 'cls.predictions.transform.LayerNorm.bias', 'cls.predictions.bias', 'cls.predictions.transform.dense.bias', 'cls.seq_relationship.bias']\n",
      "- This IS expected if you are initializing BertForTokenClassification from the checkpoint of a model trained on another task or with another architecture (e.g. initializing a BertForSequenceClassification model from a BertForPreTraining model).\n",
      "- This IS NOT expected if you are initializing BertForTokenClassification from the checkpoint of a model that you expect to be exactly identical (initializing a BertForSequenceClassification model from a BertForSequenceClassification model).\n",
      "Some weights of BertForTokenClassification were not initialized from the model checkpoint at danish_bert_uncased_v2 and are newly initialized: ['classifier.bias', 'classifier.weight']\n",
      "You should probably TRAIN this model on a down-stream task to be able to use it for predictions and inference.\n"
     ]
    }
   ],
   "source": [
    "pt_model_dir = \"danish_bert_uncased_v2\"\n",
    "\n",
    "# Will load config and weight with from_pretrained(). \n",
    "model = BertForTokenClassification.from_pretrained(pt_model_dir, num_labels=len(tag2idx), output_attentions = False, output_hidden_states = False)"
   ]
  },
  {
   "cell_type": "code",
   "execution_count": 24,
   "metadata": {},
   "outputs": [],
   "source": [
    "# Set model to GPU,if you are using GPU machine\n",
    "model.cuda();"
   ]
  },
  {
   "cell_type": "code",
   "execution_count": 25,
   "metadata": {},
   "outputs": [
    {
     "name": "stdout",
     "output_type": "stream",
     "text": [
      "Number of trainable parameters: 110034442\n"
     ]
    }
   ],
   "source": [
    "print(f'Number of trainable parameters: {model.num_parameters()}')"
   ]
  },
  {
   "cell_type": "markdown",
   "metadata": {},
   "source": [
    "Setting full finetuning to true because we have capacity to fine tune all layers / update all weights. Before we can start the fine-tuning process, we have to setup the optimizer and add the parameters it should update. A common choice is the AdamW optimizer. We also add some weight_decay as regularization to the main weight matrices. If you have limited resources, you can also try to just train the linear classifier on top of BERT and keep all other weights fixed. This will still give you a good performance."
   ]
  },
  {
   "cell_type": "code",
   "execution_count": 26,
   "metadata": {},
   "outputs": [],
   "source": [
    "pad_tok = tokenizer.vocab[\"[PAD]\"]\n",
    "sep_tok = tokenizer.vocab[\"[SEP]\"]\n",
    "cls_tok = tokenizer.vocab[\"[CLS]\"]"
   ]
  },
  {
   "cell_type": "code",
   "execution_count": 27,
   "metadata": {},
   "outputs": [],
   "source": [
    "def flat_accuracy(valid_tags, pred_tags):\n",
    "\n",
    "    \"\"\"\n",
    "    Define a flat accuracy metric to use while training the model.\n",
    "    \"\"\"\n",
    "\n",
    "    return (np.array(valid_tags) == np.array(pred_tags)).mean()"
   ]
  },
  {
   "cell_type": "code",
   "execution_count": 28,
   "metadata": {},
   "outputs": [],
   "source": [
    "def annot_confusion_matrix(valid_tags, pred_tags):\n",
    "\n",
    "    \"\"\"\n",
    "    Create an annotated confusion matrix by adding label\n",
    "    annotations and formatting to sklearn's `confusion_matrix`.\n",
    "    \"\"\"\n",
    "\n",
    "    # Create header from unique tags\n",
    "    header = sorted(list(set(valid_tags + pred_tags)))\n",
    "\n",
    "    # Calculate the actual confusion matrix\n",
    "    matrix = confusion_matrix(valid_tags, pred_tags, labels = ['B-PER', 'I-PER', 'B-LOC', 'I-LOC', 'B-ORG', 'I-ORG'])\n",
    "\n",
    "    # Final formatting touches for the string output\n",
    "    mat_formatted = [header[i] + \"\\t\" + str(row) for i, row in enumerate(matrix)]\n",
    "    content = \"\\t\" + \" \".join(header) + \"\\n\" + \"\\n\".join(mat_formatted)\n",
    "\n",
    "    return content"
   ]
  },
  {
   "cell_type": "code",
   "execution_count": 29,
   "metadata": {},
   "outputs": [
    {
     "name": "stderr",
     "output_type": "stream",
     "text": [
      "/opt/conda/lib/python3.9/site-packages/transformers/optimization.py:306: FutureWarning: This implementation of AdamW is deprecated and will be removed in a future version. Use the PyTorch implementation torch.optim.AdamW instead, or set `no_deprecation_warning=True` to disable this warning\n",
      "  warnings.warn(\n"
     ]
    }
   ],
   "source": [
    "FULL_FINETUNING = True\n",
    "if FULL_FINETUNING:\n",
    "    param_optimizer = list(model.named_parameters())\n",
    "    no_decay = ['bias', 'gamma', 'beta']\n",
    "    optimizer_grouped_parameters = [\n",
    "        {'params': [p for n, p in param_optimizer if not any(nd in n for nd in no_decay)],\n",
    "         'weight_decay_rate': 0.01},\n",
    "        {'params': [p for n, p in param_optimizer if any(nd in n for nd in no_decay)],\n",
    "         'weight_decay_rate': 0.0}\n",
    "    ]\n",
    "else:\n",
    "    param_optimizer = list(model.classifier.named_parameters()) \n",
    "    optimizer_grouped_parameters = [{\"params\": [p for n, p in param_optimizer]}]\n",
    "\n",
    "optimizer = AdamW(\n",
    "    optimizer_grouped_parameters,        \n",
    "    lr=3e-5 #The authors of BERT uses 3e-5 as lr for BERT-base\n",
    "    )"
   ]
  },
  {
   "cell_type": "code",
   "execution_count": 30,
   "metadata": {},
   "outputs": [],
   "source": [
    "epochs = 4 # Train a maximum of 3-4 epochs. More will simply result in overfitting the training data. \n",
    "max_grad_norm = 1.0\n",
    "\n",
    "# Total number of training steps is number of batches * number of epochs.\n",
    "total_steps = len(train_dataloader) * epochs\n",
    "\n",
    "# Create the learning rate scheduler.\n",
    "scheduler = get_linear_schedule_with_warmup(\n",
    "    optimizer, \n",
    "    num_warmup_steps=0,\n",
    "    \n",
    "    num_training_steps=total_steps\n",
    ")"
   ]
  },
  {
   "cell_type": "code",
   "execution_count": null,
   "metadata": {},
   "outputs": [],
   "source": []
  },
  {
   "cell_type": "code",
   "execution_count": 31,
   "metadata": {
    "tags": []
   },
   "outputs": [
    {
     "name": "stderr",
     "output_type": "stream",
     "text": [
      "Epoch:   0% 0/4 [00:00<?, ?it/s]"
     ]
    },
    {
     "name": "stdout",
     "output_type": "stream",
     "text": [
      "\n",
      "Starting training loop.\n",
      "Train loss: 0.18414084083081161\n",
      "Train accuracy: 0.8265796762945476\n",
      "Starting validation loop.\n"
     ]
    },
    {
     "name": "stderr",
     "output_type": "stream",
     "text": [
      "/opt/conda/lib/python3.9/site-packages/sklearn/metrics/_classification.py:1318: UndefinedMetricWarning: Precision and F-score are ill-defined and being set to 0.0 in labels with no predicted samples. Use `zero_division` parameter to control this behavior.\n",
      "  _warn_prf(average, modifier, msg_start, len(result))\n",
      "/opt/conda/lib/python3.9/site-packages/sklearn/metrics/_classification.py:1318: UndefinedMetricWarning: Recall and F-score are ill-defined and being set to 0.0 in labels with no true samples. Use `zero_division` parameter to control this behavior.\n",
      "  _warn_prf(average, modifier, msg_start, len(result))\n",
      "/opt/conda/lib/python3.9/site-packages/sklearn/metrics/_classification.py:1318: UndefinedMetricWarning: Precision and F-score are ill-defined and being set to 0.0 in labels with no predicted samples. Use `zero_division` parameter to control this behavior.\n",
      "  _warn_prf(average, modifier, msg_start, len(result))\n",
      "/opt/conda/lib/python3.9/site-packages/sklearn/metrics/_classification.py:1318: UndefinedMetricWarning: Recall and F-score are ill-defined and being set to 0.0 in labels with no true samples. Use `zero_division` parameter to control this behavior.\n",
      "  _warn_prf(average, modifier, msg_start, len(result))\n",
      "/opt/conda/lib/python3.9/site-packages/sklearn/metrics/_classification.py:1318: UndefinedMetricWarning: Precision and F-score are ill-defined and being set to 0.0 in labels with no predicted samples. Use `zero_division` parameter to control this behavior.\n",
      "  _warn_prf(average, modifier, msg_start, len(result))\n",
      "/opt/conda/lib/python3.9/site-packages/sklearn/metrics/_classification.py:1318: UndefinedMetricWarning: Recall and F-score are ill-defined and being set to 0.0 in labels with no true samples. Use `zero_division` parameter to control this behavior.\n",
      "  _warn_prf(average, modifier, msg_start, len(result))\n",
      "Epoch:  25% 1/4 [00:28<01:25, 28.51s/it]"
     ]
    },
    {
     "name": "stdout",
     "output_type": "stream",
     "text": [
      "Validation loss: 0.052569341328408986\n",
      "\n",
      "Validation Accuracy: 0.9705475370691903\n",
      "\n",
      "F1-Score: 0.7323146576117714\n",
      "\n",
      "Classification Report:\n",
      "               precision    recall  f1-score   support\n",
      "\n",
      "       B-LOC       0.63      0.77      0.70       188\n",
      "       B-ORG       0.68      0.51      0.58       197\n",
      "       B-PER       0.85      0.82      0.84       251\n",
      "       I-LOC       0.00      0.00      0.00        21\n",
      "       I-ORG       0.69      0.14      0.23        64\n",
      "       I-PER       0.88      0.93      0.90       201\n",
      "           O       0.99      0.99      0.99     11273\n",
      "       [PAD]       0.00      0.00      0.00         0\n",
      "\n",
      "    accuracy                           0.97     12195\n",
      "   macro avg       0.59      0.52      0.53     12195\n",
      "weighted avg       0.97      0.97      0.97     12195\n",
      "\n",
      "Confusion Matrix:\n",
      " \tB-LOC B-ORG B-PER I-LOC I-ORG I-PER O [PAD]\n",
      "B-LOC\t[207  12  10   0   2   0]\n",
      "B-ORG\t[  9 186   2   0   0   0]\n",
      "B-PER\t[  2   0 145   0   6   0]\n",
      "I-LOC\t[ 0  0 15  0  2  1]\n",
      "I-ORG\t[ 12   0  22   0 100   0]\n",
      "I-PER\t[ 0  7 10  0 19  9]\n",
      "\n",
      "Starting training loop.\n",
      "Train loss: 0.040846605506474086\n",
      "Train accuracy: 0.9761813114757106\n",
      "Starting validation loop.\n"
     ]
    },
    {
     "name": "stderr",
     "output_type": "stream",
     "text": [
      "Epoch:  50% 2/4 [00:55<00:55, 27.72s/it]"
     ]
    },
    {
     "name": "stdout",
     "output_type": "stream",
     "text": [
      "Validation loss: 0.03748501568204827\n",
      "\n",
      "Validation Accuracy: 0.9789213830099768\n",
      "\n",
      "F1-Score: 0.8146157979580871\n",
      "\n",
      "Classification Report:\n",
      "               precision    recall  f1-score   support\n",
      "\n",
      "       B-LOC       0.75      0.89      0.81       188\n",
      "       B-ORG       0.73      0.69      0.71       197\n",
      "       B-PER       0.88      0.91      0.90       251\n",
      "       I-LOC       0.50      0.14      0.22        21\n",
      "       I-ORG       0.57      0.62      0.60        64\n",
      "       I-PER       0.93      0.92      0.92       201\n",
      "           O       0.99      0.99      0.99     11273\n",
      "\n",
      "    accuracy                           0.98     12195\n",
      "   macro avg       0.77      0.74      0.74     12195\n",
      "weighted avg       0.98      0.98      0.98     12195\n",
      "\n",
      "Confusion Matrix:\n",
      " \tB-LOC B-ORG B-PER I-LOC I-ORG I-PER O\n",
      "B-LOC\t[229   5   2   0   4   0]\n",
      "B-ORG\t[ 14 184   0   0   2   1]\n",
      "B-PER\t[  0   0 167   1   9   1]\n",
      "I-LOC\t[ 0  0 13  3  1  4]\n",
      "I-ORG\t[  4   0  16   0 135   6]\n",
      "I-PER\t[ 0  1  6  2  7 40]\n",
      "\n",
      "Starting training loop.\n",
      "Train loss: 0.0340237199553173\n",
      "Train accuracy: 0.9869368969935151\n",
      "Starting validation loop.\n"
     ]
    },
    {
     "name": "stderr",
     "output_type": "stream",
     "text": [
      "Epoch:  75% 3/4 [01:23<00:27, 27.66s/it]"
     ]
    },
    {
     "name": "stdout",
     "output_type": "stream",
     "text": [
      "Validation loss: 0.038866938919656806\n",
      "\n",
      "Validation Accuracy: 0.9815739398769429\n",
      "\n",
      "F1-Score: 0.8399781540141997\n",
      "\n",
      "Classification Report:\n",
      "               precision    recall  f1-score   support\n",
      "\n",
      "       B-LOC       0.83      0.89      0.86       188\n",
      "       B-ORG       0.78      0.71      0.74       197\n",
      "       B-PER       0.90      0.91      0.91       251\n",
      "       I-LOC       0.62      0.38      0.47        21\n",
      "       I-ORG       0.60      0.67      0.63        64\n",
      "       I-PER       0.95      0.92      0.93       201\n",
      "           O       0.99      0.99      0.99     11273\n",
      "\n",
      "    accuracy                           0.98     12195\n",
      "   macro avg       0.81      0.78      0.79     12195\n",
      "weighted avg       0.98      0.98      0.98     12195\n",
      "\n",
      "Confusion Matrix:\n",
      " \tB-LOC B-ORG B-PER I-LOC I-ORG I-PER O\n",
      "B-LOC\t[228   2   2   0   2   0]\n",
      "B-ORG\t[ 15 184   0   0   0   1]\n",
      "B-PER\t[  0   0 167   1  10   0]\n",
      "I-LOC\t[0 0 7 8 2 3]\n",
      "I-ORG\t[  1   0  11   0 139   2]\n",
      "I-PER\t[ 0  1  5  4  4 43]\n",
      "\n",
      "Starting training loop.\n",
      "Train loss: 0.030628439637213727\n",
      "Train accuracy: 0.9926473968671335\n",
      "Starting validation loop.\n"
     ]
    },
    {
     "name": "stderr",
     "output_type": "stream",
     "text": [
      "/opt/conda/lib/python3.9/site-packages/sklearn/metrics/_classification.py:1318: UndefinedMetricWarning: Recall and F-score are ill-defined and being set to 0.0 in labels with no true samples. Use `zero_division` parameter to control this behavior.\n",
      "  _warn_prf(average, modifier, msg_start, len(result))\n",
      "/opt/conda/lib/python3.9/site-packages/sklearn/metrics/_classification.py:1318: UndefinedMetricWarning: Recall and F-score are ill-defined and being set to 0.0 in labels with no true samples. Use `zero_division` parameter to control this behavior.\n",
      "  _warn_prf(average, modifier, msg_start, len(result))\n",
      "/opt/conda/lib/python3.9/site-packages/sklearn/metrics/_classification.py:1318: UndefinedMetricWarning: Recall and F-score are ill-defined and being set to 0.0 in labels with no true samples. Use `zero_division` parameter to control this behavior.\n",
      "  _warn_prf(average, modifier, msg_start, len(result))\n",
      "Epoch: 100% 4/4 [01:50<00:00, 27.68s/it]"
     ]
    },
    {
     "name": "stdout",
     "output_type": "stream",
     "text": [
      "Validation loss: 0.03695434404330121\n",
      "\n",
      "Validation Accuracy: 0.9826229861430795\n",
      "\n",
      "F1-Score: 0.8502415458937198\n",
      "\n",
      "Classification Report:\n",
      "               precision    recall  f1-score   support\n",
      "\n",
      "       B-LOC       0.86      0.88      0.87       188\n",
      "       B-ORG       0.76      0.78      0.77       197\n",
      "       B-PER       0.94      0.90      0.92       251\n",
      "       I-LOC       0.40      0.67      0.50        21\n",
      "       I-ORG       0.61      0.69      0.65        64\n",
      "       I-PER       0.94      0.94      0.94       201\n",
      "           O       0.99      0.99      0.99     11273\n",
      "       [PAD]       0.00      0.00      0.00         0\n",
      "\n",
      "    accuracy                           0.98     12195\n",
      "   macro avg       0.69      0.73      0.71     12195\n",
      "weighted avg       0.98      0.98      0.98     12195\n",
      "\n",
      "Confusion Matrix:\n",
      " \tB-LOC B-ORG B-PER I-LOC I-ORG I-PER O [PAD]\n",
      "B-LOC\t[227   3   2   0   5   0]\n",
      "B-ORG\t[  9 189   0   0   0   3]\n",
      "B-PER\t[  0   0 165   8  11   0]\n",
      "I-LOC\t[ 0  0  2 14  0  5]\n",
      "I-ORG\t[  1   0  10   0 153   1]\n",
      "I-PER\t[ 0  1  0 10  2 44]\n"
     ]
    },
    {
     "name": "stderr",
     "output_type": "stream",
     "text": [
      "\n"
     ]
    }
   ],
   "source": [
    "epoch = 0\n",
    "\n",
    "torch.manual_seed(1)\n",
    "np.random.seed(1)\n",
    "\n",
    "tr_loss_values, eval_loss_values = [], []\n",
    "for _ in trange(epochs, desc=\"Epoch\"):\n",
    "    epoch += 1\n",
    "\n",
    "    # Training loop\n",
    "    print(\"\\nStarting training loop.\")\n",
    "    model.train()\n",
    "    tr_loss, tr_accuracy = 0, 0\n",
    "    nb_tr_examples, nb_tr_steps = 0, 0\n",
    "    tr_preds, tr_labels = [], []\n",
    "\n",
    "    for step, batch in enumerate(train_dataloader):\n",
    "\n",
    "        # Add batch to gpu\n",
    "        batch = tuple(t.to(torch.int64).to(device) for t in batch)\n",
    "        b_input_ids, b_input_mask, b_labels = batch\n",
    "\n",
    "        # Forward pass\n",
    "        outputs = model(\n",
    "            b_input_ids,\n",
    "            token_type_ids=None,\n",
    "            attention_mask=b_input_mask,\n",
    "            labels=b_labels,\n",
    "        )\n",
    "        loss, tr_logits = outputs[:2]\n",
    "\n",
    "        # Backward pass\n",
    "        loss.backward()\n",
    "\n",
    "        # Compute train loss\n",
    "        tr_loss += loss.item()\n",
    "        nb_tr_examples += b_input_ids.size(0)\n",
    "        nb_tr_steps += 1\n",
    "\n",
    "        # Subset out unwanted predictions on CLS/PAD/SEP tokens\n",
    "        preds_mask = (\n",
    "            (b_input_ids != cls_tok)\n",
    "            & (b_input_ids != pad_tok)\n",
    "            & (b_input_ids != sep_tok)\n",
    "        )\n",
    "\n",
    "        #preds_mask = preds_mask.detach().cpu().numpy()\n",
    "        tr_logits = tr_logits.detach().cpu().numpy()\n",
    "        tr_label_ids = torch.masked_select(b_labels, (preds_mask == 1))\n",
    "        tr_batch_preds = np.argmax(tr_logits[preds_mask.detach().cpu().numpy().squeeze()], axis=1)\n",
    "        tr_batch_labels = tr_label_ids.to(\"cpu\").numpy()\n",
    "        tr_preds.extend(tr_batch_preds)\n",
    "        tr_labels.extend(tr_batch_labels)\n",
    "\n",
    "        # Compute training accuracy\n",
    "        tmp_tr_accuracy = flat_accuracy(tr_batch_labels, tr_batch_preds)\n",
    "        tr_accuracy += tmp_tr_accuracy\n",
    "\n",
    "        # Gradient clipping\n",
    "        torch.nn.utils.clip_grad_norm_(\n",
    "            parameters=model.parameters(), max_norm=max_grad_norm\n",
    "        )\n",
    "\n",
    "        # Update parameters\n",
    "        optimizer.step()\n",
    "        model.zero_grad()\n",
    "\n",
    "    tr_loss = tr_loss / nb_tr_steps\n",
    "    tr_loss_values.append(tr_loss)\n",
    "    tr_accuracy = tr_accuracy / nb_tr_steps\n",
    "\n",
    "    # Print training loss and accuracy per epoch\n",
    "    print(f\"Train loss: {tr_loss}\")\n",
    "    print(f\"Train accuracy: {tr_accuracy}\")\n",
    "\n",
    "    # Validation loop\n",
    "    print(\"Starting validation loop.\")\n",
    "\n",
    "    model.eval()\n",
    "    eval_loss, eval_accuracy = 0, 0\n",
    "    nb_eval_steps, nb_eval_examples = 0, 0\n",
    "    predictions, true_labels = [], []\n",
    "\n",
    "    for batch in valid_dataloader:\n",
    "\n",
    "        batch = tuple(t.to(torch.int64).to(device) for t in batch)\n",
    "        b_input_ids, b_input_mask, b_labels = batch\n",
    "\n",
    "        with torch.no_grad():\n",
    "            outputs = model(\n",
    "                b_input_ids,\n",
    "                token_type_ids=None,\n",
    "                attention_mask=b_input_mask,\n",
    "                labels=b_labels,\n",
    "            )\n",
    "            tmp_eval_loss, logits = outputs[:2]\n",
    "\n",
    "        # Subset out unwanted predictions on CLS/PAD/SEP tokens\n",
    "        preds_mask = (\n",
    "            (b_input_ids != cls_tok)\n",
    "            & (b_input_ids != pad_tok)\n",
    "            & (b_input_ids != sep_tok)\n",
    "        )\n",
    "\n",
    "        logits = logits.to(\"cpu\").numpy()\n",
    "        label_ids = torch.masked_select(b_labels, (preds_mask == 1))\n",
    "        val_batch_preds = np.argmax(logits[preds_mask.detach().cpu().numpy().squeeze()], axis=1)\n",
    "        val_batch_labels = label_ids.to(\"cpu\").numpy()\n",
    "        predictions.extend(val_batch_preds)\n",
    "        true_labels.extend(val_batch_labels)\n",
    "\n",
    "        tmp_eval_accuracy = flat_accuracy(val_batch_labels, val_batch_preds)\n",
    "\n",
    "        eval_loss += tmp_eval_loss.mean().item()\n",
    "        eval_accuracy += tmp_eval_accuracy\n",
    "\n",
    "\n",
    "        nb_eval_examples += b_input_ids.size(0)\n",
    "        nb_eval_steps += 1\n",
    "\n",
    "    # Evaluate loss, acc, conf. matrix, and class. report on validation set\n",
    "    pred_tags = [idx2tag[i] for i in predictions]\n",
    "    valid_tags = [idx2tag[i] for i in true_labels]\n",
    "    cl_report = classification_report(valid_tags, pred_tags)\n",
    "    conf_mat = annot_confusion_matrix(valid_tags, pred_tags)\n",
    "    eval_loss = eval_loss / nb_eval_steps\n",
    "    eval_loss_values.append(eval_loss)\n",
    "    eval_accuracy = eval_accuracy / nb_eval_steps\n",
    "    f1score = f1_score(valid_tags, pred_tags, labels = ['B-PER', 'I-PER', 'B-LOC', 'I-LOC', 'B-ORG', 'I-ORG'], average=\"micro\")\n",
    "\n",
    "    # Report metrics\n",
    "    print(f\"Validation loss: {eval_loss}\\n\")\n",
    "    print(f\"Validation Accuracy: {eval_accuracy}\\n\")\n",
    "    print(f\"F1-Score: {f1score}\\n\")\n",
    "    print(f\"Classification Report:\\n {cl_report}\")\n",
    "    print(f\"Confusion Matrix:\\n {conf_mat}\")"
   ]
  },
  {
   "cell_type": "code",
   "execution_count": 32,
   "metadata": {},
   "outputs": [
    {
     "data": {
      "image/png": "[encoded data removed]",
      "text/plain": [
       "<Figure size 864x432 with 1 Axes>"
      ]
     },
     "metadata": {},
     "output_type": "display_data"
    }
   ],
   "source": [
    "import matplotlib.pyplot as plt\n",
    "%matplotlib inline\n",
    "\n",
    "import seaborn as sns\n",
    "\n",
    "# Use plot styling from seaborn.\n",
    "sns.set(style='darkgrid')\n",
    "\n",
    "# Increase the plot size and font size.\n",
    "sns.set(font_scale=1.5)\n",
    "plt.rcParams[\"figure.figsize\"] = (12,6)\n",
    "\n",
    "# Plot the learning curve.\n",
    "plt.plot(tr_loss_values, 'b-o', label=\"training loss\")\n",
    "plt.plot(eval_loss_values, 'r-o', label=\"validation loss\")\n",
    "\n",
    "# Label the plot.\n",
    "plt.title(\"Learning curve\")\n",
    "plt.xlabel(\"Epoch\")\n",
    "plt.ylabel(\"Loss\")\n",
    "plt.legend()\n",
    "\n",
    "plt.show()"
   ]
  },
  {
   "cell_type": "code",
   "execution_count": 33,
   "metadata": {},
   "outputs": [],
   "source": [
    "ner_model_path = 'research/daNLP/NER/models/Danish_BERT'"
   ]
  },
  {
   "cell_type": "code",
   "execution_count": 34,
   "metadata": {},
   "outputs": [],
   "source": [
    "# Make dir if not exits\n",
    "if not os.path.exists(ner_model_path):\n",
    "        os.makedirs(ner_model_path)"
   ]
  },
  {
   "cell_type": "code",
   "execution_count": 35,
   "metadata": {},
   "outputs": [
    {
     "data": {
      "text/plain": [
       "('research/daNLP/NER/models/Danish_BERT/tokenizer_config.json',\n",
       " 'research/daNLP/NER/models/Danish_BERT/special_tokens_map.json',\n",
       " 'research/daNLP/NER/models/Danish_BERT/vocab.txt',\n",
       " 'research/daNLP/NER/models/Danish_BERT/added_tokens.json')"
      ]
     },
     "execution_count": 35,
     "metadata": {},
     "output_type": "execute_result"
    }
   ],
   "source": [
    "# Saving the model and the tokenizer\n",
    "\n",
    "model_to_save = model.module if hasattr(model, 'module') else model #Take care of distrubuted/parallel training\n",
    "model_to_save.save_pretrained(ner_model_path)\n",
    "tokenizer.save_pretrained(ner_model_path)"
   ]
  },
  {
   "cell_type": "code",
   "execution_count": 36,
   "metadata": {},
   "outputs": [],
   "source": [
    "# Loading the model to tokenize the test sentece\n",
    "model = BertForTokenClassification.from_pretrained(ner_model_path)\n",
    "tokenizer = BertTokenizer.from_pretrained(ner_model_path, do_lower_case = True, strip_accents = False)"
   ]
  },
  {
   "cell_type": "code",
   "execution_count": 37,
   "metadata": {},
   "outputs": [],
   "source": [
    "model.cuda();"
   ]
  },
  {
   "cell_type": "code",
   "execution_count": 38,
   "metadata": {
    "tags": []
   },
   "outputs": [
    {
     "name": "stdout",
     "output_type": "stream",
     "text": [
      "Number of Epochs: 4\n",
      "\n",
      "Test loss: 0.041447424019376435\n",
      "\n",
      "Test Accuracy: 0.9773173648600353\n",
      "\n",
      "F1-Score Micro: 0.8301382077574676\n",
      "\n",
      "F1-Score Macro: 0.738112888238303\n",
      "\n",
      "Classification Report:\n",
      "               precision    recall  f1-score   support\n",
      "\n",
      "       B-LOC       0.81      0.87      0.83       172\n",
      "       B-PER       0.87      0.91      0.89       274\n",
      "       I-LOC       0.21      0.88      0.34         8\n",
      "       I-PER       0.96      1.00      0.98       260\n",
      "       B-ORG       0.81      0.64      0.71       333\n",
      "       I-ORG       0.79      0.57      0.67        94\n",
      "\n",
      "   micro avg       0.84      0.82      0.83      1141\n",
      "   macro avg       0.74      0.81      0.74      1141\n",
      "weighted avg       0.85      0.82      0.83      1141\n",
      "\n",
      "Confusion Matrix:\n",
      " \tB-LOC B-ORG B-PER I-LOC I-ORG I-PER O\n",
      "B-LOC\t[249   3   0   0   2   0]\n",
      "B-ORG\t[  0 260   0   0   0   0]\n",
      "B-PER\t[  0   0 149   4   1   0]\n",
      "I-LOC\t[0 0 1 7 0 0]\n",
      "I-ORG\t[ 30   0  28   4 212   4]\n",
      "I-PER\t[ 0  6  1 16  6 54]\n"
     ]
    }
   ],
   "source": [
    "pad_tok = tokenizer.vocab[\"[PAD]\"]\n",
    "sep_tok = tokenizer.vocab[\"[SEP]\"]\n",
    "cls_tok = tokenizer.vocab[\"[CLS]\"]\n",
    "\n",
    "torch.manual_seed(1)\n",
    "np.random.seed(1)\n",
    "\n",
    "test_loss, test_accuracy = 0, 0\n",
    "nb_test_steps, nb_test_examples = 0, 0\n",
    "predictions, true_labels = [], []\n",
    "tr_loss_values, test_loss_values = [], []\n",
    "\n",
    "for batch in test_dataloader:\n",
    "\n",
    "    batch = tuple(t.to(torch.int64).to(device) for t in batch)\n",
    "    b_input_ids, b_input_mask, b_labels = batch\n",
    "\n",
    "    with torch.no_grad():\n",
    "        outputs = model(\n",
    "            b_input_ids,\n",
    "            token_type_ids=None,\n",
    "            attention_mask=b_input_mask,\n",
    "            labels=b_labels,\n",
    "        )\n",
    "        tmp_test_loss, logits = outputs[:2]\n",
    "\n",
    "    # Subset out unwanted predictions on CLS/PAD/SEP tokens\n",
    "    preds_mask = (\n",
    "        (b_input_ids != cls_tok)\n",
    "        & (b_input_ids != pad_tok)\n",
    "        & (b_input_ids != sep_tok)\n",
    "    )\n",
    "\n",
    "    logits = logits.to(\"cpu\").numpy()\n",
    "    label_ids = torch.masked_select(b_labels, (preds_mask == 1))\n",
    "    test_batch_preds = np.argmax(logits[preds_mask.detach().cpu().numpy().squeeze()], axis=1)\n",
    "    test_batch_labels = label_ids.to(\"cpu\").numpy()\n",
    "    predictions.extend(test_batch_preds)\n",
    "    true_labels.extend(test_batch_labels)\n",
    "\n",
    "    tmp_test_accuracy = flat_accuracy(test_batch_labels, test_batch_preds)\n",
    "\n",
    "    test_loss += tmp_test_loss.mean().item()\n",
    "    test_accuracy += tmp_test_accuracy\n",
    "\n",
    "\n",
    "    nb_test_examples += b_input_ids.size(0)\n",
    "    nb_test_steps += 1\n",
    "\n",
    "# Evaluate loss, acc, conf. matrix, and class. report on devset\n",
    "pred_tags = [idx2tag[i] for i in predictions]\n",
    "valid_tags = [idx2tag[i] for i in true_labels]\n",
    "cl_report = classification_report(valid_tags, pred_tags, labels = ['B-LOC', 'B-PER', 'I-LOC', 'I-PER', 'B-ORG', 'I-ORG'])\n",
    "conf_mat = annot_confusion_matrix(valid_tags, pred_tags)\n",
    "test_loss = test_loss / nb_test_steps\n",
    "test_loss_values.append(test_loss)\n",
    "test_accuracy = test_accuracy / nb_test_steps\n",
    "f1score_micro = f1_score(valid_tags, pred_tags, labels = ['B-LOC', 'B-PER', 'I-LOC', 'I-PER', 'B-ORG', 'I-ORG'], average=\"micro\")\n",
    "f1score_macro = f1_score(valid_tags, pred_tags, labels = ['B-LOC', 'B-PER', 'I-LOC', 'I-PER', 'B-ORG', 'I-ORG'], average=\"macro\")\n",
    "\n",
    "\n",
    "# Report metrics\n",
    "print(f\"Number of Epochs: {epochs}\\n\")\n",
    "\n",
    "print(f\"Test loss: {test_loss}\\n\")\n",
    "print(f\"Test Accuracy: {test_accuracy}\\n\")\n",
    "\n",
    "print(f\"F1-Score Micro: {f1score_micro}\\n\")\n",
    "print(f\"F1-Score Macro: {f1score_macro}\\n\")\n",
    "\n",
    "print(f\"Classification Report:\\n {cl_report}\")\n",
    "print(f\"Confusion Matrix:\\n {conf_mat}\")\n",
    "\n",
    "with open(f'{ner_model_path}/TESTMETRICS','a+') as f:\n",
    "    f.write(f\"Number of Epochs: {epochs}\\n\")\n",
    "\n",
    "    f.write(f\"Test loss: {test_loss}\\n\")\n",
    "    f.write(f\"Test Accuracy: {test_accuracy}\\n\")\n",
    "\n",
    "    f.write(f\"F1-Score Micro: {f1score_micro}\\n\")\n",
    "    f.write(f\"F1-Score Macro: {f1score_macro}\\n\")\n",
    "\n",
    "    f.write(f\"Classification Report:\\n {cl_report}\")\n",
    "    f.write(f\"Confusion Matrix:\\n {conf_mat}\")\n",
    "\n"
   ]
  },
  {
   "cell_type": "markdown",
   "metadata": {},
   "source": [
    "# Testing the model's capabilities on specific tokens only"
   ]
  },
  {
   "cell_type": "code",
   "execution_count": 39,
   "metadata": {},
   "outputs": [],
   "source": [
    "#test[\"labels\"][test[\"labels\"].str.contains(\"PER\")]=\"B-PER\"\n",
    "valid_tags = pd.Series(valid_tags)\n",
    "valid_tags[valid_tags.str.contains(\"PER\")] = \"B-PER\"\n",
    "valid_tags[valid_tags.str.contains(\"LOC\")] = \"B-LOC\"\n",
    "valid_tags = valid_tags.tolist()\n",
    "\n",
    "pred_tags = pd.Series(pred_tags)\n",
    "pred_tags[pred_tags.str.contains(\"PER\")] = \"B-PER\"\n",
    "pred_tags[pred_tags.str.contains(\"LOC\")] = \"B-LOC\"\n",
    "pred_tags = pred_tags.tolist()"
   ]
  },
  {
   "cell_type": "code",
   "execution_count": 40,
   "metadata": {
    "tags": []
   },
   "outputs": [
    {
     "name": "stdout",
     "output_type": "stream",
     "text": [
      "F1-Score: 0.8746787195850696\n",
      "\n",
      "Classification Report:\n",
      "               precision    recall  f1-score   support\n",
      "\n",
      "       B-LOC       0.74      0.89      0.81       180\n",
      "       B-PER       0.92      0.96      0.94       534\n",
      "\n",
      "   micro avg       0.87      0.94      0.91       714\n",
      "   macro avg       0.83      0.93      0.87       714\n",
      "weighted avg       0.88      0.94      0.91       714\n",
      "\n",
      "Confusion Matrix:\n",
      " [[  161     1     0     0    18]\n",
      " [   32   212    30     4    55]\n",
      " [    0     2   512     0    20]\n",
      " [   17     6     6    54    11]\n",
      " [    8    40     7    10 10681]]\n"
     ]
    }
   ],
   "source": [
    "cl_report = classification_report(valid_tags, pred_tags, labels = ['B-LOC', 'B-PER'])\n",
    "conf_mat = confusion_matrix(valid_tags, pred_tags)\n",
    "f1score = f1_score(valid_tags, pred_tags, labels = ['B-LOC', 'B-PER'], average = \"macro\")\n",
    "\n",
    "# Report metrics\n",
    "print(f\"F1-Score: {f1score}\\n\")\n",
    "print(f\"Classification Report:\\n {cl_report}\")\n",
    "print(f\"Confusion Matrix:\\n {conf_mat}\")"
   ]
  },
  {
   "cell_type": "code",
   "execution_count": 41,
   "metadata": {},
   "outputs": [],
   "source": [
    "test_sentence = \"Indkøb af Melon 1 kg, 2 slags Karen Volf 200g, 2 poser Chili og Timian fra Santa Maria, Arla 1L. Vores referencer: Karen Volf, Chili Jensen, Timian Hansen og Arla Kristoffersen. Kontaktperson er Melon Andersen. Levering til Timianvej 12\"\n",
    "test_sentence2 = \"Timian Nielsen har bestilt 10 kasser Lego til levering på Hc. Andersensvej 13 A første Sal tv og han har købt det til sin datter chili som går med Åben ble fra Abena og hun elsker i øvrigt elsker at spise chili, så derfor har de 10 kg chili derhjemme, men hvad chili ikke ved er at hendes far har købt en hvid 3 hjulet cykel fra Toys R Us ved Toppen Nr. 3 Aarhus- helt specifikt er det en 3 hjulet nr 30 fra kataloget og han har husket Toppen beskyttelseshjelm, str 35 og Far Timian kan godt lide chiLi men han elsker at spise en Tivoli stang, derfor bestilte han 20 stk Toms tivoli stang så han kan dele med sin ven Sebsatian i stedet for at få Melon i Grøn Box.\""
   ]
  },
  {
   "cell_type": "code",
   "execution_count": 42,
   "metadata": {
    "tags": []
   },
   "outputs": [
    {
     "name": "stdout",
     "output_type": "stream",
     "text": [
      "[2, 3509, 47, 467, 53, 127, 3219, 911, 148, 2009, 8385, 1974, 31708, 808, 31703, 911, 148, 16894, 12390, 28, 28254, 145, 18482, 6357, 911, 26370, 127, 31702, 771, 339, 14209, 1325, 8385, 1974, 31708, 911, 12390, 3683, 911, 28254, 3744, 28, 26370, 26460, 134, 771, 12841, 33, 467, 53, 4459, 771, 4457, 45, 28254, 578, 1082, 3]\n"
     ]
    }
   ],
   "source": [
    "tokenized_sentence = tokenizer.encode(test_sentence)\n",
    "print(tokenized_sentence)"
   ]
  },
  {
   "cell_type": "code",
   "execution_count": 43,
   "metadata": {},
   "outputs": [],
   "source": [
    "input_ids = torch.tensor([tokenized_sentence]).cuda()"
   ]
  },
  {
   "cell_type": "code",
   "execution_count": 44,
   "metadata": {},
   "outputs": [
    {
     "data": {
      "text/plain": [
       "58"
      ]
     },
     "execution_count": 44,
     "metadata": {},
     "output_type": "execute_result"
    }
   ],
   "source": [
    "with torch.no_grad():\n",
    "    logits = model(input_ids)\n",
    "logits = F.softmax(logits[0], dim = 2)\n",
    "logits_label = torch.argmax(logits, dim = 2)\n",
    "logits_label = logits_label.detach().cpu().numpy().tolist()[0]\n",
    "\n",
    "logits_confidence = [values[label].item() for values, label in zip(logits[0], logits_label)]\n",
    "len(logits_confidence)"
   ]
  },
  {
   "cell_type": "code",
   "execution_count": 45,
   "metadata": {},
   "outputs": [],
   "source": [
    "# join bpe split tokens\n",
    "tokens = tokenizer.convert_ids_to_tokens(input_ids.to('cpu').numpy()[0])\n",
    "new_tokens, new_labels, new_probs = [], [], []\n",
    "for token, label_idx, probs in zip(tokens, logits_label, logits_confidence):\n",
    "    if token.startswith(\"##\"):\n",
    "        new_tokens[-1] = new_tokens[-1] + token[2:]\n",
    "    else:\n",
    "        new_labels.append(tag_values[label_idx])\n",
    "        new_tokens.append(token)\n",
    "        new_probs.append(probs)"
   ]
  },
  {
   "cell_type": "code",
   "execution_count": 46,
   "metadata": {
    "tags": []
   },
   "outputs": [
    {
     "name": "stdout",
     "output_type": "stream",
     "text": [
      "[SEP]\t[CLS]\t0.35406693816185\n",
      "O\tindkøb\t0.9997159838676453\n",
      "O\taf\t0.9997386336326599\n",
      "O\tmelon\t0.7387145757675171\n",
      "O\t1\t0.9984843134880066\n",
      "O\tkg\t0.9990200996398926\n",
      "O\t,\t0.9997584223747253\n",
      "O\t2\t0.9996015429496765\n",
      "O\tslags\t0.9996067881584167\n",
      "B-PER\tkaren\t0.9913374185562134\n",
      "I-PER\tvolf\t0.9940366744995117\n",
      "O\t200g\t0.9955313801765442\n",
      "O\t,\t0.9997616410255432\n",
      "O\t2\t0.9997190833091736\n",
      "O\tposer\t0.9996324777603149\n",
      "O\tchili\t0.8727623820304871\n",
      "O\tog\t0.9984689354896545\n",
      "O\ttimian\t0.9261709451675415\n",
      "O\tfra\t0.9994376301765442\n",
      "B-ORG\tsanta\t0.6258220672607422\n",
      "I-ORG\tmaria\t0.49883905053138733\n",
      "O\t,\t0.9965651631355286\n",
      "B-ORG\tarla\t0.5763012766838074\n",
      "I-LOC\t1l\t0.5286656022071838\n",
      "O\t.\t0.999380350112915\n",
      "O\tvores\t0.999336302280426\n",
      "O\treferencer\t0.9991549253463745\n",
      "O\t:\t0.9996308088302612\n",
      "B-PER\tkaren\t0.9944873452186584\n",
      "I-PER\tvolf\t0.9955767393112183\n",
      "O\t,\t0.99953293800354\n",
      "B-PER\tchili\t0.994709849357605\n",
      "I-PER\tjensen\t0.9945797920227051\n",
      "O\t,\t0.999550998210907\n",
      "B-PER\ttimian\t0.992206871509552\n",
      "I-PER\thansen\t0.9924864768981934\n",
      "O\tog\t0.9996300935745239\n",
      "B-PER\tarla\t0.9769644141197205\n",
      "I-PER\tkristoffersen\t0.9837559461593628\n",
      "O\t.\t0.9996211528778076\n",
      "O\tkontaktperson\t0.9986716508865356\n",
      "O\ter\t0.9995716214179993\n",
      "B-PER\tmelon\t0.9917009472846985\n",
      "I-PER\tandersen\t0.9950199127197266\n",
      "O\t.\t0.9996395111083984\n",
      "O\tlevering\t0.9984989166259766\n",
      "O\ttil\t0.9979198575019836\n",
      "B-LOC\ttimianvej\t0.9144138693809509\n",
      "I-LOC\t12\t0.7498582601547241\n",
      "[SEP]\t[SEP]\t0.35403603315353394\n"
     ]
    }
   ],
   "source": [
    "for token, label, prob in zip(new_tokens, new_labels, new_probs):\n",
    "    print(\"{}\\t{}\\t{}\".format(label, token, prob))\n"
   ]
  },
  {
   "cell_type": "code",
   "execution_count": 47,
   "metadata": {},
   "outputs": [
    {
     "data": {
      "text/plain": [
       "[{'Word': '[CLS]', 'Label': '[SEP]', 'Confidence': 0.35406693816185},\n",
       " {'Word': 'indkøb', 'Label': 'O', 'Confidence': 0.9997159838676453},\n",
       " {'Word': 'af', 'Label': 'O', 'Confidence': 0.9997386336326599},\n",
       " {'Word': 'melon', 'Label': 'O', 'Confidence': 0.7387145757675171},\n",
       " {'Word': '1', 'Label': 'O', 'Confidence': 0.9984843134880066},\n",
       " {'Word': 'kg', 'Label': 'O', 'Confidence': 0.9990200996398926},\n",
       " {'Word': ',', 'Label': 'O', 'Confidence': 0.9997584223747253},\n",
       " {'Word': '2', 'Label': 'O', 'Confidence': 0.9996015429496765},\n",
       " {'Word': 'slags', 'Label': 'O', 'Confidence': 0.9996067881584167},\n",
       " {'Word': 'karen', 'Label': 'B-PER', 'Confidence': 0.9913374185562134},\n",
       " {'Word': 'volf', 'Label': 'I-PER', 'Confidence': 0.9940366744995117},\n",
       " {'Word': '200g', 'Label': 'O', 'Confidence': 0.9955313801765442},\n",
       " {'Word': ',', 'Label': 'O', 'Confidence': 0.9997616410255432},\n",
       " {'Word': '2', 'Label': 'O', 'Confidence': 0.9997190833091736},\n",
       " {'Word': 'poser', 'Label': 'O', 'Confidence': 0.9996324777603149},\n",
       " {'Word': 'chili', 'Label': 'O', 'Confidence': 0.8727623820304871},\n",
       " {'Word': 'og', 'Label': 'O', 'Confidence': 0.9984689354896545},\n",
       " {'Word': 'timian', 'Label': 'O', 'Confidence': 0.9261709451675415},\n",
       " {'Word': 'fra', 'Label': 'O', 'Confidence': 0.9994376301765442},\n",
       " {'Word': 'santa', 'Label': 'B-ORG', 'Confidence': 0.6258220672607422},\n",
       " {'Word': 'maria', 'Label': 'I-ORG', 'Confidence': 0.49883905053138733},\n",
       " {'Word': ',', 'Label': 'O', 'Confidence': 0.9965651631355286},\n",
       " {'Word': 'arla', 'Label': 'B-ORG', 'Confidence': 0.5763012766838074},\n",
       " {'Word': '1l', 'Label': 'I-LOC', 'Confidence': 0.5286656022071838},\n",
       " {'Word': '.', 'Label': 'O', 'Confidence': 0.999380350112915},\n",
       " {'Word': 'vores', 'Label': 'O', 'Confidence': 0.999336302280426},\n",
       " {'Word': 'referencer', 'Label': 'O', 'Confidence': 0.9991549253463745},\n",
       " {'Word': ':', 'Label': 'O', 'Confidence': 0.9996308088302612},\n",
       " {'Word': 'karen', 'Label': 'B-PER', 'Confidence': 0.9944873452186584},\n",
       " {'Word': 'volf', 'Label': 'I-PER', 'Confidence': 0.9955767393112183},\n",
       " {'Word': ',', 'Label': 'O', 'Confidence': 0.99953293800354},\n",
       " {'Word': 'chili', 'Label': 'B-PER', 'Confidence': 0.994709849357605},\n",
       " {'Word': 'jensen', 'Label': 'I-PER', 'Confidence': 0.9945797920227051},\n",
       " {'Word': ',', 'Label': 'O', 'Confidence': 0.999550998210907},\n",
       " {'Word': 'timian', 'Label': 'B-PER', 'Confidence': 0.992206871509552},\n",
       " {'Word': 'hansen', 'Label': 'I-PER', 'Confidence': 0.9924864768981934},\n",
       " {'Word': 'og', 'Label': 'O', 'Confidence': 0.9996300935745239},\n",
       " {'Word': 'arla', 'Label': 'B-PER', 'Confidence': 0.9769644141197205},\n",
       " {'Word': 'kristoffersen', 'Label': 'I-PER', 'Confidence': 0.9837559461593628},\n",
       " {'Word': '.', 'Label': 'O', 'Confidence': 0.9996211528778076},\n",
       " {'Word': 'kontaktperson', 'Label': 'O', 'Confidence': 0.9986716508865356},\n",
       " {'Word': 'er', 'Label': 'O', 'Confidence': 0.9995716214179993},\n",
       " {'Word': 'melon', 'Label': 'B-PER', 'Confidence': 0.9917009472846985},\n",
       " {'Word': 'andersen', 'Label': 'I-PER', 'Confidence': 0.9950199127197266},\n",
       " {'Word': '.', 'Label': 'O', 'Confidence': 0.9996395111083984},\n",
       " {'Word': 'levering', 'Label': 'O', 'Confidence': 0.9984989166259766},\n",
       " {'Word': 'til', 'Label': 'O', 'Confidence': 0.9979198575019836},\n",
       " {'Word': 'timianvej', 'Label': 'B-LOC', 'Confidence': 0.9144138693809509},\n",
       " {'Word': '12', 'Label': 'I-LOC', 'Confidence': 0.7498582601547241},\n",
       " {'Word': '[SEP]', 'Label': '[SEP]', 'Confidence': 0.35403603315353394}]"
      ]
     },
     "execution_count": 47,
     "metadata": {},
     "output_type": "execute_result"
    }
   ],
   "source": [
    "dict_predictions = [{\"Word\":token,\"Label\":label,\"Confidence\":prob} for token, label, prob in zip(new_tokens, new_labels, new_probs)]\n",
    "dict_predictions"
   ]
  },
  {
   "cell_type": "code",
   "execution_count": null,
   "metadata": {},
   "outputs": [],
   "source": []
  },
  {
   "cell_type": "code",
   "execution_count": null,
   "metadata": {},
   "outputs": [],
   "source": []
  }
 ],
 "metadata": {
  "file_extension": ".py",
  "kernelspec": {
   "display_name": "Python 3 (ipykernel)",
   "language": "python",
   "name": "python3"
  },
  "language_info": {
   "codemirror_mode": {
    "name": "ipython",
    "version": 3
   },
   "file_extension": ".py",
   "mimetype": "text/x-python",
   "name": "python",
   "nbconvert_exporter": "python",
   "pygments_lexer": "ipython3",
   "version": "3.9.7"
  },
  "mimetype": "text/x-python",
  "name": "python",
  "npconvert_exporter": "python",
  "pygments_lexer": "ipython3",
  "version": 3
 },
 "nbformat": 4,
 "nbformat_minor": 4
}
